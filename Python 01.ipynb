{
 "cells": [
  {
   "cell_type": "markdown",
   "id": "24c78e2f",
   "metadata": {},
   "source": [
    "# write a program to accept percentage from user and display grade according to following criteria..."
   ]
  },
  {
   "cell_type": "code",
   "execution_count": 1,
   "id": "1a5b944e",
   "metadata": {},
   "outputs": [
    {
     "name": "stdout",
     "output_type": "stream",
     "text": [
      "Enter your percentage :99\n",
      "Your grade is : A\n"
     ]
    }
   ],
   "source": [
    "per = int(input(\"Enter your percentage :\"))\n",
    "if per > 90:\n",
    "          print(\"Your grade is : A\")\n",
    "elif per > 80 and per <= 90:\n",
    "          print(\"Your grade is : B\")\n",
    "elif per >= 60 and per <= 80:\n",
    "          print(\"Your grade is : C\")\n",
    "else:\n",
    "          print(\"Your grade is : D\")"
   ]
  },
  {
   "cell_type": "markdown",
   "id": "43692a17",
   "metadata": {},
   "source": [
    "# Write a program to accept cost price of bike and display the road tax to be paid according to following criteria.."
   ]
  },
  {
   "cell_type": "code",
   "execution_count": 2,
   "id": "91b20a2a",
   "metadata": {},
   "outputs": [
    {
     "name": "stdout",
     "output_type": "stream",
     "text": [
      "Enter cost price of your Bike :522696\n",
      "Your tax amount is : 78404.4\n"
     ]
    }
   ],
   "source": [
    "cost_price = float(input(\"Enter cost price of your Bike :\"))\n",
    "if cost_price > 100000:\n",
    "    tax = cost_price*0.15\n",
    "    print(\"Your tax amount is :\",tax)\n",
    "elif cost_price > 50000 and cost_price <= 100000:\n",
    "    tax = cost_price*0.1\n",
    "    print(\"Your tax amount is :\",tax)\n",
    "else:\n",
    "    tax = cost_price*0.05\n",
    "    print(\"Your tax amount is :\",tax)\n",
    "    "
   ]
  },
  {
   "cell_type": "markdown",
   "id": "6de92f0f",
   "metadata": {},
   "source": [
    "# Accept any city from user and display monuments of that city.."
   ]
  },
  {
   "cell_type": "code",
   "execution_count": 3,
   "id": "6864ba63",
   "metadata": {},
   "outputs": [
    {
     "name": "stdout",
     "output_type": "stream",
     "text": [
      "Enter City Name :Delhi\n",
      "Monuments is : Red Fort\n"
     ]
    }
   ],
   "source": [
    "city_name = str(input(\"Enter City Name :\"))\n",
    "if city_name==\"Delhi\":\n",
    "    print(\"Monuments is : Red Fort\")\n",
    "elif city_name==\"Agra\":\n",
    "    print(\"Monuments is : Taj Mahal\")\n",
    "else:\n",
    "    print(\"Monuments is : Jal Mahal\")"
   ]
  },
  {
   "cell_type": "markdown",
   "id": "cb4c5253",
   "metadata": {},
   "source": [
    "### Equilateral triangle pattern of *"
   ]
  },
  {
   "cell_type": "code",
   "execution_count": 11,
   "id": "32d65e38",
   "metadata": {},
   "outputs": [
    {
     "name": "stdout",
     "output_type": "stream",
     "text": [
      "    *\r\n",
      "   ***\r\n",
      "  *****\r\n",
      " *******\r\n",
      "*********\r\n"
     ]
    }
   ],
   "source": [
    "n=6\n",
    "for i in range(1,n):\n",
    "    for j in range(1,n-i):\n",
    "        print(\" \",end=\"\")\n",
    "    for k in range(1,i+1):\n",
    "        print(\"*\",end=\"\")\n",
    "    for l in range(1,i):\n",
    "        print(\"*\",end=\"\")\n",
    "    print(\"\\r\")    "
   ]
  },
  {
   "cell_type": "markdown",
   "id": "a164d48a",
   "metadata": {},
   "source": [
    "### Pyramid pattern of *"
   ]
  },
  {
   "cell_type": "code",
   "execution_count": 13,
   "id": "4e914b5a",
   "metadata": {},
   "outputs": [
    {
     "name": "stdout",
     "output_type": "stream",
     "text": [
      "    * \r\n",
      "   * * \r\n",
      "  * * * \r\n",
      " * * * * \r\n",
      "* * * * * \r\n"
     ]
    }
   ],
   "source": [
    "n=6\n",
    "for i in range(1,n):\n",
    "    for j in range(1,n-i):\n",
    "        print(\" \",end=\"\")\n",
    "    for k in range(1,i+1):\n",
    "        print(\"* \",end=\"\")\n",
    "    print(\"\\r\")\n",
    "        "
   ]
  },
  {
   "cell_type": "markdown",
   "id": "918daaf3",
   "metadata": {},
   "source": [
    "### Slash pattern of *"
   ]
  },
  {
   "cell_type": "code",
   "execution_count": 14,
   "id": "c355a8d1",
   "metadata": {},
   "outputs": [
    {
     "name": "stdout",
     "output_type": "stream",
     "text": [
      "    *****\r\n",
      "   *****\r\n",
      "  *****\r\n",
      " *****\r\n",
      "*****\r\n"
     ]
    }
   ],
   "source": [
    "n=6\n",
    "for i in range(1,n):\n",
    "    for j in range(1,n-i):\n",
    "        print(\" \",end=\"\")\n",
    "    for k in range(1,n):\n",
    "        print(\"*\",end=\"\")\n",
    "    print(\"\\r\")"
   ]
  },
  {
   "cell_type": "code",
   "execution_count": null,
   "id": "6817ea5e",
   "metadata": {},
   "outputs": [],
   "source": []
  }
 ],
 "metadata": {
  "kernelspec": {
   "display_name": "Python 3 (ipykernel)",
   "language": "python",
   "name": "python3"
  },
  "language_info": {
   "codemirror_mode": {
    "name": "ipython",
    "version": 3
   },
   "file_extension": ".py",
   "mimetype": "text/x-python",
   "name": "python",
   "nbconvert_exporter": "python",
   "pygments_lexer": "ipython3",
   "version": "3.10.6"
  }
 },
 "nbformat": 4,
 "nbformat_minor": 5
}
